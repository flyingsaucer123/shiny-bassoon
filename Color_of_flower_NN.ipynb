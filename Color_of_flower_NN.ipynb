{
 "cells": [
  {
   "cell_type": "code",
   "execution_count": 1,
   "metadata": {
    "collapsed": true
   },
   "outputs": [],
   "source": [
    "from matplotlib import pyplot as plt\n",
    "import numpy as np"
   ]
  },
  {
   "cell_type": "code",
   "execution_count": 27,
   "metadata": {
    "collapsed": true
   },
   "outputs": [],
   "source": [
    "# Credit: giant_neural_network \n",
    "\n",
    "# flowers classification: 1-red,0-blue\n",
    "\n",
    "data = [[3, 1.5, 1],\n",
    "        [2, 1, 0],\n",
    "        [4, 1.5, 1],\n",
    "        [3, 1, 0],\n",
    "        [3.5, .5, 1],\n",
    "        [2.5, .5, 0]]\n",
    "\n",
    "#intent: find color of unknown flower based on the above information\n",
    "\n",
    "unknown_flower = [2.2,1]\n",
    "\n",
    "#sigmoid function \n",
    "def sigmoid(x):\n",
    "    return (1/(1+np.exp(-x)))\n",
    "\n",
    "def sigmoid_p(x):\n",
    "    return sigmoid(x)*(1 - sigmoid(x))\n",
    "    "
   ]
  },
  {
   "cell_type": "code",
   "execution_count": 4,
   "metadata": {},
   "outputs": [
    {
     "data": {
      "image/png": "[encoded data removed]",
      "text/plain": [
       "<matplotlib.figure.Figure at 0x85f0898>"
      ]
     },
     "metadata": {},
     "output_type": "display_data"
    }
   ],
   "source": [
    "#scatter plot of data\n",
    "for i in range(len(data)):\n",
    "    point=data[i]\n",
    "    color='r'\n",
    "    if point[2]==0:\n",
    "        color='b'\n",
    "        \n",
    "    plt.scatter(point[0],point[1],c=color)    \n",
    "    \n",
    "plt.show()    "
   ]
  },
  {
   "cell_type": "code",
   "execution_count": 16,
   "metadata": {
    "collapsed": true
   },
   "outputs": [],
   "source": [
    "learning_rate=0.1 "
   ]
  },
  {
   "cell_type": "code",
   "execution_count": 17,
   "metadata": {
    "collapsed": true
   },
   "outputs": [],
   "source": [
    "#random values for weight and bias parameters\n",
    "w1=np.random.randn()\n",
    "w2=np.random.randn()\n",
    "b=np.random.randn()\n"
   ]
  },
  {
   "cell_type": "code",
   "execution_count": 24,
   "metadata": {
    "collapsed": true
   },
   "outputs": [],
   "source": [
    "for i in range(10000):\n",
    "    randpt=np.random.randint(len(data))\n",
    "    point=data[randpt]\n",
    "    z=w1*point[0] + w2*point[1] + b\n",
    "   #sigmoid function will limit prediction between 0 and 1\n",
    "    \n",
    "    pred=sigmoid(z)\n",
    "    target=point[2]\n",
    "    cost=np.square(pred - target)\n",
    "    \n",
    "    # partial derivatives\n",
    "    dcost_pred = 2 * (pred - target)\n",
    "    dpred_dz = sigmoid_p(z)\n",
    "    \n",
    "    dz_dw1 = point[0]\n",
    "    dz_dw2 = point[1]\n",
    "    dz_db = 1\n",
    "    \n",
    "    # Calculate the cost change of weights\n",
    "    dcost_dw1 = dcost_pred*dpred_dz*dz_dw1 \n",
    "    dcost_dw2 = dcost_pred*dpred_dz*dz_dw2\n",
    "    dcost_db = dcost_pred*dpred_dz*dz_db\n",
    "    \n",
    "    # optimum value for w1,w2,b to minimize the overall avg error or the cost function\n",
    "    \n",
    "    w1 = w1 - learning_rate * dcost_dw1\n",
    "    w2 = w2 - learning_rate * dcost_dw2\n",
    "    b = b - learning_rate * dcost_db\n",
    "    "
   ]
  },
  {
   "cell_type": "code",
   "execution_count": 25,
   "metadata": {
    "collapsed": true
   },
   "outputs": [],
   "source": [
    "def flower_color(length, width):\n",
    "    z = length * w1 + width * w2 + b\n",
    "    pred = sigmoid(z)\n",
    "    if pred < .5:\n",
    "        print(\"Blue\")\n",
    "    else :\n",
    "        print(\"Red\")"
   ]
  },
  {
   "cell_type": "code",
   "execution_count": 28,
   "metadata": {},
   "outputs": [
    {
     "name": "stdout",
     "output_type": "stream",
     "text": [
      "Blue\n"
     ]
    }
   ],
   "source": [
    "flower_color(unknown_flower[0],unknown_flower[1])"
   ]
  },
  {
   "cell_type": "code",
   "execution_count": 33,
   "metadata": {
    "collapsed": true
   },
   "outputs": [],
   "source": []
  },
  {
   "cell_type": "code",
   "execution_count": 34,
   "metadata": {
    "collapsed": true
   },
   "outputs": [],
   "source": []
  },
  {
   "cell_type": "code",
   "execution_count": null,
   "metadata": {
    "collapsed": true
   },
   "outputs": [],
   "source": []
  }
 ],
 "metadata": {
  "kernelspec": {
   "display_name": "Python 3",
   "language": "python",
   "name": "python3"
  },
  "language_info": {
   "codemirror_mode": {
    "name": "ipython",
    "version": 3
   },
   "file_extension": ".py",
   "mimetype": "text/x-python",
   "name": "python",
   "nbconvert_exporter": "python",
   "pygments_lexer": "ipython3",
   "version": "3.6.3"
  }
 },
 "nbformat": 4,
 "nbformat_minor": 2
}
